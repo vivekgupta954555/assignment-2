{
 "cells": [
  {
   "cell_type": "code",
   "execution_count": null,
   "id": "a3af84b7-fe2e-42fd-b2fd-7072081329df",
   "metadata": {},
   "outputs": [],
   "source": []
  },
  {
   "cell_type": "code",
   "execution_count": 1,
   "id": "5cd1ad17-cf6c-4e8f-80d4-86c545ad1d3d",
   "metadata": {},
   "outputs": [
    {
     "name": "stdout",
     "output_type": "stream",
     "text": [
      "1\n",
      "2\n",
      "3\n",
      "4\n",
      "5\n",
      "6\n",
      "7\n",
      "8\n",
      "9\n",
      "10\n"
     ]
    }
   ],
   "source": [
    "a = 1\n",
    "while a <=10 :\n",
    "    print(a)\n",
    "    a = a+1"
   ]
  },
  {
   "cell_type": "code",
   "execution_count": null,
   "id": "90e8c62f-7a05-433a-9d38-cfc6ea705e85",
   "metadata": {},
   "outputs": [],
   "source": []
  },
  {
   "cell_type": "code",
   "execution_count": 3,
   "id": "4dd802d2-1e33-49c9-bd3c-7b747ed1e55b",
   "metadata": {},
   "outputs": [
    {
     "name": "stdin",
     "output_type": "stream",
     "text": [
      "enter the number 5\n"
     ]
    },
    {
     "data": {
      "text/plain": [
       "15"
      ]
     },
     "execution_count": 3,
     "metadata": {},
     "output_type": "execute_result"
    }
   ],
   "source": [
    "#sum of number\n",
    "\n",
    "n = int(input(\"enter the number\"))\n",
    "starting_point = 0\n",
    "counter = 1\n",
    "while counter <= n:\n",
    "    starting_point = starting_point + counter \n",
    "    counter =  counter + 1\n",
    "starting_point\n",
    "    \n",
    "\n",
    "    \n",
    "    \n",
    "        \n",
    "        "
   ]
  },
  {
   "cell_type": "code",
   "execution_count": null,
   "id": "f58b3f7e-40f5-4e72-9fc9-00d0aeb6240b",
   "metadata": {},
   "outputs": [],
   "source": []
  },
  {
   "cell_type": "code",
   "execution_count": 11,
   "id": "adc15a6b-d321-4f13-8b59-721643822ce1",
   "metadata": {},
   "outputs": [
    {
     "name": "stdin",
     "output_type": "stream",
     "text": [
      "enter your number 6\n"
     ]
    },
    {
     "data": {
      "text/plain": [
       "720"
      ]
     },
     "execution_count": 11,
     "metadata": {},
     "output_type": "execute_result"
    }
   ],
   "source": [
    "#factorial number\n",
    "\n",
    "number = int( input(\"enter your number\"))\n",
    "factorial = 1\n",
    "\n",
    "while number >0 :\n",
    "        factorial = factorial*number\n",
    "        number = number -1\n",
    "factorial"
   ]
  },
  {
   "cell_type": "code",
   "execution_count": 5,
   "id": "e9e9cea7-0eb8-43b0-aee5-2b962e805dda",
   "metadata": {},
   "outputs": [
    {
     "name": "stdin",
     "output_type": "stream",
     "text": [
      "enter the number 3\n"
     ]
    },
    {
     "name": "stdout",
     "output_type": "stream",
     "text": [
      "0\n",
      "1\n",
      "1\n"
     ]
    }
   ],
   "source": [
    "val = int(input(\"enter the number\"))\n",
    "a,b = 0,1\n",
    "counter = 0\n",
    "while counter<val :\n",
    "    print(a)\n",
    "    c = a+b\n",
    "    a = b\n",
    "    b = c\n",
    "    counter = counter +1"
   ]
  },
  {
   "cell_type": "code",
   "execution_count": 6,
   "id": "74d953ed-fcf8-47a9-88be-6bc08312f3e6",
   "metadata": {},
   "outputs": [
    {
     "name": "stdout",
     "output_type": "stream",
     "text": [
      "0\n",
      "1\n",
      "1\n",
      "2\n",
      "3\n"
     ]
    }
   ],
   "source": [
    "a,b = 0,1\n",
    "for i in range(5):\n",
    "    print(a)\n",
    "    c = a+b\n",
    "    a = b\n",
    "    b = c\n"
   ]
  },
  {
   "cell_type": "code",
   "execution_count": 7,
   "id": "8205995e-2b5d-465c-aeb2-a691e5acc0a6",
   "metadata": {},
   "outputs": [
    {
     "name": "stdin",
     "output_type": "stream",
     "text": [
      "enter your string that you want to reverse vivek\n"
     ]
    }
   ],
   "source": [
    "word = input(\"enter your string that you want to reverse\")"
   ]
  },
  {
   "cell_type": "code",
   "execution_count": 9,
   "id": "c2aca75e-1d6e-4b74-8390-e5123b5a76e5",
   "metadata": {},
   "outputs": [
    {
     "name": "stdout",
     "output_type": "stream",
     "text": [
      "keviv\n"
     ]
    }
   ],
   "source": [
    "reverse =  \"\"\n",
    "length = len(word)\n",
    "while length >0 :\n",
    "    reverse = reverse+ word[length-1]\n",
    "    length =length -1\n",
    "print(reverse)\n",
    "    "
   ]
  },
  {
   "cell_type": "code",
   "execution_count": 10,
   "id": "b0d1360f-1f88-4db7-a4bb-202c968134b5",
   "metadata": {},
   "outputs": [],
   "source": [
    "# print table of number"
   ]
  },
  {
   "cell_type": "code",
   "execution_count": 18,
   "id": "75641236-bbde-493f-a1b1-e9ca140a208c",
   "metadata": {},
   "outputs": [
    {
     "name": "stdin",
     "output_type": "stream",
     "text": [
      "enter the number 4\n"
     ]
    },
    {
     "name": "stdout",
     "output_type": "stream",
     "text": [
      "4 * 1 = 4\n",
      "4 * 2 = 8\n",
      "4 * 3 = 12\n",
      "4 * 4 = 16\n",
      "4 * 5 = 20\n",
      "4 * 6 = 24\n",
      "4 * 7 = 28\n",
      "4 * 8 = 32\n",
      "4 * 9 = 36\n",
      "4 * 10 = 40\n"
     ]
    }
   ],
   "source": [
    "n = int ( input(\"enter the number\"))\n",
    "i = 1\n",
    "while i<=10 :\n",
    "    result = n*i\n",
    "    print(n , '*',i,\"=\",result)\n",
    "    i = i+1\n",
    "\n",
    "    \n"
   ]
  },
  {
   "cell_type": "code",
   "execution_count": 24,
   "id": "c94fbcb3-4e02-4a48-b34e-d1f3db3ba7ac",
   "metadata": {},
   "outputs": [
    {
     "name": "stdout",
     "output_type": "stream",
     "text": [
      "1\n",
      "2\n",
      "3\n",
      "4\n",
      "5\n"
     ]
    }
   ],
   "source": [
    "n = 7\n",
    "i = 1\n",
    "while i<n:\n",
    "    print(i)\n",
    "    if i == 5:\n",
    "        break\n",
    "    i = i+1\n",
    "    #we can also use break statement\n",
    "    \n",
    "    \n",
    "else:\n",
    "    print(\"this will executed once your while completed successfully\")\n"
   ]
  },
  {
   "cell_type": "code",
   "execution_count": 26,
   "id": "5b90e11f-6a54-4bda-b8ee-233478e31224",
   "metadata": {},
   "outputs": [],
   "source": [
    "l = [2,3,4,5,6,7]\n",
    "l1 = []\n",
    "for i in l :\n",
    "    l1.append(i**2)"
   ]
  },
  {
   "cell_type": "code",
   "execution_count": 27,
   "id": "15026312-aa38-48ad-9432-c36d686f6942",
   "metadata": {},
   "outputs": [
    {
     "data": {
      "text/plain": [
       "[4, 9, 16, 25, 36, 49]"
      ]
     },
     "execution_count": 27,
     "metadata": {},
     "output_type": "execute_result"
    }
   ],
   "source": [
    "l1"
   ]
  },
  {
   "cell_type": "code",
   "execution_count": 28,
   "id": "f88cf624-bc73-4651-a6cc-d6bce0d56110",
   "metadata": {},
   "outputs": [
    {
     "data": {
      "text/plain": [
       "[2, 3, 4, 5, 6, 7]"
      ]
     },
     "execution_count": 28,
     "metadata": {},
     "output_type": "execute_result"
    }
   ],
   "source": [
    "l"
   ]
  },
  {
   "cell_type": "code",
   "execution_count": 29,
   "id": "7a496e95-8e02-4edc-b60d-7aadafc9b03c",
   "metadata": {},
   "outputs": [
    {
     "data": {
      "text/plain": [
       "[4, 9, 16, 25, 36, 49]"
      ]
     },
     "execution_count": 29,
     "metadata": {},
     "output_type": "execute_result"
    }
   ],
   "source": [
    "[i**2 for i in  l]"
   ]
  },
  {
   "cell_type": "code",
   "execution_count": 30,
   "id": "f4e7f312-285e-4c51-a9ea-6190c27c9ea3",
   "metadata": {},
   "outputs": [
    {
     "data": {
      "text/plain": [
       "[2, 4, 6]"
      ]
     },
     "execution_count": 30,
     "metadata": {},
     "output_type": "execute_result"
    }
   ],
   "source": [
    "[ i for i in l if i% 2==0]"
   ]
  },
  {
   "cell_type": "code",
   "execution_count": 31,
   "id": "23667c98-115b-43f4-83f6-002a367fe6f2",
   "metadata": {},
   "outputs": [],
   "source": [
    "l2 = [\"vivek\",\"data sciencce\",\"klpd\"]"
   ]
  },
  {
   "cell_type": "code",
   "execution_count": 33,
   "id": "ed690e33-655b-46c7-ba2b-f4a86be9d935",
   "metadata": {},
   "outputs": [
    {
     "data": {
      "text/plain": [
       "['VIVEK', 'DATA SCIENCCE', 'KLPD']"
      ]
     },
     "execution_count": 33,
     "metadata": {},
     "output_type": "execute_result"
    }
   ],
   "source": [
    "[i.upper() for i in l2]"
   ]
  },
  {
   "cell_type": "code",
   "execution_count": 34,
   "id": "db2be4e4-8467-441c-9187-41b29bc82b7d",
   "metadata": {},
   "outputs": [
    {
     "data": {
      "text/plain": [
       "[2, 3, 4, 5, 6, 7]"
      ]
     },
     "execution_count": 34,
     "metadata": {},
     "output_type": "execute_result"
    }
   ],
   "source": [
    "l"
   ]
  },
  {
   "cell_type": "code",
   "execution_count": 36,
   "id": "89899f89-0478-4fa8-9c13-f43f6bcba892",
   "metadata": {},
   "outputs": [
    {
     "data": {
      "text/plain": [
       "[4, 9, 16, 25, 36, 49]"
      ]
     },
     "execution_count": 36,
     "metadata": {},
     "output_type": "execute_result"
    }
   ],
   "source": [
    "list(i**2 for i in l)"
   ]
  },
  {
   "cell_type": "code",
   "execution_count": 38,
   "id": "55c634d4-d364-4078-9757-e8816a142691",
   "metadata": {},
   "outputs": [],
   "source": [
    "d = {\"key1\" :1 ,\"key2\" : 2,\"key3\" :7} "
   ]
  },
  {
   "cell_type": "code",
   "execution_count": 41,
   "id": "4e2afac5-acd4-4f32-ad92-81cbb29524ca",
   "metadata": {},
   "outputs": [
    {
     "data": {
      "text/plain": [
       "{'key1': 1, 'key2': 4, 'key3': 49}"
      ]
     },
     "execution_count": 41,
     "metadata": {},
     "output_type": "execute_result"
    }
   ],
   "source": [
    "{k:v**2 for k,v in d.items()}"
   ]
  },
  {
   "cell_type": "code",
   "execution_count": 40,
   "id": "fcd1f97b-af67-4366-806a-3ec2046081aa",
   "metadata": {},
   "outputs": [
    {
     "data": {
      "text/plain": [
       "dict_items([('key1', 1), ('key2', 2), ('key3', 7)])"
      ]
     },
     "execution_count": 40,
     "metadata": {},
     "output_type": "execute_result"
    }
   ],
   "source": [
    "d.items()"
   ]
  },
  {
   "cell_type": "code",
   "execution_count": 42,
   "id": "db87d859-5424-49d5-9b03-1c8a6f401a07",
   "metadata": {},
   "outputs": [
    {
     "data": {
      "text/plain": [
       "{'key1': 1, 'key2': 2, 'key3': 7}"
      ]
     },
     "execution_count": 42,
     "metadata": {},
     "output_type": "execute_result"
    }
   ],
   "source": [
    "d"
   ]
  },
  {
   "cell_type": "code",
   "execution_count": 43,
   "id": "b1713a35-7095-4a03-bca9-5bcae71189db",
   "metadata": {},
   "outputs": [
    {
     "data": {
      "text/plain": [
       "{'key2': 2, 'key3': 7}"
      ]
     },
     "execution_count": 43,
     "metadata": {},
     "output_type": "execute_result"
    }
   ],
   "source": [
    "{ k:v for k,v in d.items() if v>1}"
   ]
  },
  {
   "cell_type": "code",
   "execution_count": 1,
   "id": "b02e5b45-af11-440d-9f42-a4389f2f3c7a",
   "metadata": {},
   "outputs": [],
   "source": [
    "# function"
   ]
  },
  {
   "cell_type": "code",
   "execution_count": 2,
   "id": "909a73c6-5b94-4669-9ede-8b2f10320794",
   "metadata": {},
   "outputs": [
    {
     "name": "stdout",
     "output_type": "stream",
     "text": [
      "this is function class\n"
     ]
    }
   ],
   "source": [
    "print(\"this is function class\")"
   ]
  },
  {
   "cell_type": "code",
   "execution_count": 3,
   "id": "77c60858-6ae4-4e05-b6bc-5ca022cbb483",
   "metadata": {},
   "outputs": [],
   "source": [
    "l = [2,3,4,56]"
   ]
  },
  {
   "cell_type": "code",
   "execution_count": 4,
   "id": "d2227392-efbb-4084-ae7b-b6cb21c8658a",
   "metadata": {},
   "outputs": [
    {
     "data": {
      "text/plain": [
       "4"
      ]
     },
     "execution_count": 4,
     "metadata": {},
     "output_type": "execute_result"
    }
   ],
   "source": [
    "len(l)"
   ]
  },
  {
   "cell_type": "code",
   "execution_count": 5,
   "id": "2428b612-41f6-4096-830e-105ebd39ecca",
   "metadata": {},
   "outputs": [
    {
     "data": {
      "text/plain": [
       "list"
      ]
     },
     "execution_count": 5,
     "metadata": {},
     "output_type": "execute_result"
    }
   ],
   "source": [
    "type(l)"
   ]
  },
  {
   "cell_type": "code",
   "execution_count": 6,
   "id": "c2f153db-13e0-478a-b50a-759c52ebb3a0",
   "metadata": {},
   "outputs": [],
   "source": [
    "def text():\n",
    "    pass"
   ]
  },
  {
   "cell_type": "code",
   "execution_count": 7,
   "id": "7fd284e4-d738-4007-bdf5-ee1f8e1b4361",
   "metadata": {},
   "outputs": [],
   "source": [
    "def text1():\n",
    "    print(\"this is first class of function\")"
   ]
  },
  {
   "cell_type": "code",
   "execution_count": 9,
   "id": "c0f834f9-1117-4711-9969-d0a6849f2e6f",
   "metadata": {},
   "outputs": [
    {
     "name": "stdout",
     "output_type": "stream",
     "text": [
      "this is first class of function\n"
     ]
    },
    {
     "ename": "TypeError",
     "evalue": "unsupported operand type(s) for +: 'NoneType' and 'str'",
     "output_type": "error",
     "traceback": [
      "\u001b[0;31m---------------------------------------------------------------------------\u001b[0m",
      "\u001b[0;31mTypeError\u001b[0m                                 Traceback (most recent call last)",
      "Cell \u001b[0;32mIn[9], line 1\u001b[0m\n\u001b[0;32m----> 1\u001b[0m \u001b[43mtext1\u001b[49m\u001b[43m(\u001b[49m\u001b[43m)\u001b[49m\u001b[43m \u001b[49m\u001b[38;5;241;43m+\u001b[39;49m\u001b[38;5;124;43m\"\u001b[39;49m\u001b[38;5;124;43mvivek\u001b[39;49m\u001b[38;5;124;43m\"\u001b[39;49m\n",
      "\u001b[0;31mTypeError\u001b[0m: unsupported operand type(s) for +: 'NoneType' and 'str'"
     ]
    }
   ],
   "source": [
    "test1() +\"vivek\""
   ]
  },
  {
   "cell_type": "code",
   "execution_count": 16,
   "id": "1650a81c-ee23-4dbc-9818-41e54592a0d4",
   "metadata": {},
   "outputs": [],
   "source": [
    "def test2():\n",
    "    return \"this is my very first return\""
   ]
  },
  {
   "cell_type": "code",
   "execution_count": 18,
   "id": "bcc1fb9b-a322-4d62-8f11-ce76aa1ed816",
   "metadata": {},
   "outputs": [
    {
     "data": {
      "text/plain": [
       "'this is my very first return'"
      ]
     },
     "execution_count": 18,
     "metadata": {},
     "output_type": "execute_result"
    }
   ],
   "source": [
    "test2()"
   ]
  },
  {
   "cell_type": "code",
   "execution_count": 19,
   "id": "f1d30e9d-9240-44a1-b55c-7b8e1034df75",
   "metadata": {},
   "outputs": [
    {
     "data": {
      "text/plain": [
       "'this is my very first returnvivek'"
      ]
     },
     "execution_count": 19,
     "metadata": {},
     "output_type": "execute_result"
    }
   ],
   "source": [
    "test2() + \"vivek\""
   ]
  },
  {
   "cell_type": "code",
   "execution_count": 21,
   "id": "1e258aaa-90fd-4c4c-be63-bc1f91baa39e",
   "metadata": {},
   "outputs": [],
   "source": [
    " def test3():\n",
    "    return  \"vivek\",354,35.45,[4,5,6]"
   ]
  },
  {
   "cell_type": "code",
   "execution_count": 22,
   "id": "e94a29f9-a56c-4465-93df-8d775be81eba",
   "metadata": {},
   "outputs": [
    {
     "data": {
      "text/plain": [
       "('vivek', 354, 35.45, [4, 5, 6])"
      ]
     },
     "execution_count": 22,
     "metadata": {},
     "output_type": "execute_result"
    }
   ],
   "source": [
    "test3()"
   ]
  },
  {
   "cell_type": "code",
   "execution_count": 24,
   "id": "818db507-5e47-4475-b71a-60d39698c3e1",
   "metadata": {},
   "outputs": [],
   "source": [
    "a,b,c,d = test3()"
   ]
  },
  {
   "cell_type": "code",
   "execution_count": 25,
   "id": "ccdc6953-7b14-4292-90d1-3c126f16117e",
   "metadata": {},
   "outputs": [
    {
     "data": {
      "text/plain": [
       "'vivek'"
      ]
     },
     "execution_count": 25,
     "metadata": {},
     "output_type": "execute_result"
    }
   ],
   "source": [
    "a"
   ]
  },
  {
   "cell_type": "code",
   "execution_count": 26,
   "id": "6104367b-9cf2-4b11-8dc3-1842fb63539c",
   "metadata": {},
   "outputs": [
    {
     "data": {
      "text/plain": [
       "354"
      ]
     },
     "execution_count": 26,
     "metadata": {},
     "output_type": "execute_result"
    }
   ],
   "source": [
    "b"
   ]
  },
  {
   "cell_type": "code",
   "execution_count": 27,
   "id": "cb12ce22-fb7f-41a7-a87f-64128d1c1843",
   "metadata": {},
   "outputs": [
    {
     "data": {
      "text/plain": [
       "35.45"
      ]
     },
     "execution_count": 27,
     "metadata": {},
     "output_type": "execute_result"
    }
   ],
   "source": [
    "c"
   ]
  },
  {
   "cell_type": "code",
   "execution_count": 28,
   "id": "f68425b6-e88e-4425-b0a8-739a8a33e3db",
   "metadata": {},
   "outputs": [
    {
     "data": {
      "text/plain": [
       "[4, 5, 6]"
      ]
     },
     "execution_count": 28,
     "metadata": {},
     "output_type": "execute_result"
    }
   ],
   "source": [
    "d"
   ]
  },
  {
   "cell_type": "code",
   "execution_count": 31,
   "id": "4ad022ba-3ded-4427-8e3e-662fa34028b4",
   "metadata": {},
   "outputs": [],
   "source": [
    "def test4():\n",
    "    a = 564+53/65\n",
    "    return a\n",
    "    "
   ]
  },
  {
   "cell_type": "code",
   "execution_count": 32,
   "id": "427a7dc1-40d9-41a8-aa10-51c2dd7f3364",
   "metadata": {},
   "outputs": [
    {
     "data": {
      "text/plain": [
       "564.8153846153846"
      ]
     },
     "execution_count": 32,
     "metadata": {},
     "output_type": "execute_result"
    }
   ],
   "source": [
    "test4()"
   ]
  },
  {
   "cell_type": "code",
   "execution_count": 35,
   "id": "0b90578c-b8e4-4f0b-aad1-f15759b9980b",
   "metadata": {},
   "outputs": [],
   "source": [
    "def test5(b,c,d):\n",
    "    x = b+c/d\n",
    "    return x\n",
    "    "
   ]
  },
  {
   "cell_type": "code",
   "execution_count": 36,
   "id": "c76ce5a5-f640-4e6a-8425-1250e76e76de",
   "metadata": {},
   "outputs": [
    {
     "ename": "TypeError",
     "evalue": "test5() missing 3 required positional arguments: 'b', 'c', and 'd'",
     "output_type": "error",
     "traceback": [
      "\u001b[0;31m---------------------------------------------------------------------------\u001b[0m",
      "\u001b[0;31mTypeError\u001b[0m                                 Traceback (most recent call last)",
      "Cell \u001b[0;32mIn[36], line 1\u001b[0m\n\u001b[0;32m----> 1\u001b[0m \u001b[43mtest5\u001b[49m\u001b[43m(\u001b[49m\u001b[43m)\u001b[49m\n",
      "\u001b[0;31mTypeError\u001b[0m: test5() missing 3 required positional arguments: 'b', 'c', and 'd'"
     ]
    }
   ],
   "source": [
    "test5()"
   ]
  },
  {
   "cell_type": "code",
   "execution_count": 37,
   "id": "8fefcfc9-e0ee-4495-83e1-e53850f7b7b0",
   "metadata": {},
   "outputs": [
    {
     "data": {
      "text/plain": [
       "67.16666666666667"
      ]
     },
     "execution_count": 37,
     "metadata": {},
     "output_type": "execute_result"
    }
   ],
   "source": [
    "test5(56,67,6)"
   ]
  },
  {
   "cell_type": "code",
   "execution_count": 39,
   "id": "4d119ba9-10b1-4054-a181-7ac7a07847f0",
   "metadata": {},
   "outputs": [],
   "source": [
    "def test6(a,b) :\n",
    "    return a+b"
   ]
  },
  {
   "cell_type": "code",
   "execution_count": 40,
   "id": "9de148c8-bebb-48a5-8b84-912bd304728e",
   "metadata": {},
   "outputs": [
    {
     "data": {
      "text/plain": [
       "11"
      ]
     },
     "execution_count": 40,
     "metadata": {},
     "output_type": "execute_result"
    }
   ],
   "source": [
    "test6(5,6)"
   ]
  },
  {
   "cell_type": "code",
   "execution_count": 41,
   "id": "16d4d5e2-aac6-485d-b1d2-8c0cd09818da",
   "metadata": {},
   "outputs": [
    {
     "data": {
      "text/plain": [
       "'vivekgupta'"
      ]
     },
     "execution_count": 41,
     "metadata": {},
     "output_type": "execute_result"
    }
   ],
   "source": [
    "test6(\"vivek\",\"gupta\")"
   ]
  },
  {
   "cell_type": "code",
   "execution_count": 42,
   "id": "82cca665-2c8f-46cb-ae5d-3970d680634d",
   "metadata": {},
   "outputs": [
    {
     "data": {
      "text/plain": [
       "[5, 78, 78, 6, 899, 9]"
      ]
     },
     "execution_count": 42,
     "metadata": {},
     "output_type": "execute_result"
    }
   ],
   "source": [
    "test6([5,78,78],[6,899,9]) "
   ]
  },
  {
   "cell_type": "code",
   "execution_count": 45,
   "id": "c587d215-02ad-4b88-ad8f-2fe3f381f8bf",
   "metadata": {},
   "outputs": [],
   "source": [
    "l = [1,3,4,6,\"vivek\",\"khushi\",[3,4,5,5]]"
   ]
  },
  {
   "cell_type": "code",
   "execution_count": 49,
   "id": "25b83f95-ef5c-48a4-8b0a-c2521060e2ee",
   "metadata": {},
   "outputs": [],
   "source": [
    "l1 = []\n",
    "for i in l :\n",
    "    if type(i) == int or type(i) == float:\n",
    "        l1.append(i)\n"
   ]
  },
  {
   "cell_type": "code",
   "execution_count": 50,
   "id": "e53f754a-2279-4768-9331-0495cda86437",
   "metadata": {},
   "outputs": [
    {
     "data": {
      "text/plain": [
       "[1, 3, 4, 6]"
      ]
     },
     "execution_count": 50,
     "metadata": {},
     "output_type": "execute_result"
    }
   ],
   "source": [
    "l1"
   ]
  },
  {
   "cell_type": "code",
   "execution_count": 56,
   "id": "f241c719-86a0-434d-b9ae-cd117f51641a",
   "metadata": {},
   "outputs": [],
   "source": [
    "def test7(l):\n",
    "    l1 = []\n",
    "    for i in l :\n",
    "        if type(i) == int or type(i) == float:\n",
    "            l1.append(i)\n",
    "    return l1\n"
   ]
  },
  {
   "cell_type": "code",
   "execution_count": 57,
   "id": "16b9af07-50c9-420f-b67c-8ba023690c78",
   "metadata": {},
   "outputs": [
    {
     "data": {
      "text/plain": [
       "[1, 3, 4, 6]"
      ]
     },
     "execution_count": 57,
     "metadata": {},
     "output_type": "execute_result"
    }
   ],
   "source": [
    "l1"
   ]
  },
  {
   "cell_type": "code",
   "execution_count": 64,
   "id": "0e919db7-c37f-4837-926a-7fb86165d007",
   "metadata": {},
   "outputs": [],
   "source": [
    "def test8(a):\n",
    "    l = []\n",
    "    for i in a :\n",
    "        if type(i) == list:\n",
    "            for j in i:\n",
    "                l.append(j)\n",
    "        else:\n",
    "            if type  (i) == int or type(i) == float:\n",
    "                l.append(i)\n",
    "    return(l)\n",
    "                \n"
   ]
  },
  {
   "cell_type": "code",
   "execution_count": 65,
   "id": "2de92187-41a2-4f19-9d9f-da09a05fb6e6",
   "metadata": {},
   "outputs": [
    {
     "data": {
      "text/plain": [
       "[1, 3, 4, 6, 3, 4, 5, 5]"
      ]
     },
     "execution_count": 65,
     "metadata": {},
     "output_type": "execute_result"
    }
   ],
   "source": [
    "test8(l)"
   ]
  },
  {
   "cell_type": "code",
   "execution_count": 62,
   "id": "aad6631a-3dbe-48c3-be19-4e2480103669",
   "metadata": {},
   "outputs": [
    {
     "data": {
      "text/plain": [
       "[1, 3, 4, 6, 'vivek', 'khushi', [3, 4, 5, 5]]"
      ]
     },
     "execution_count": 62,
     "metadata": {},
     "output_type": "execute_result"
    }
   ],
   "source": [
    "l"
   ]
  },
  {
   "cell_type": "code",
   "execution_count": 66,
   "id": "5c0948d5-2e7b-4240-9259-505a25a413f6",
   "metadata": {},
   "outputs": [
    {
     "ename": "TypeError",
     "evalue": "test8() missing 1 required positional argument: 'a'",
     "output_type": "error",
     "traceback": [
      "\u001b[0;31m---------------------------------------------------------------------------\u001b[0m",
      "\u001b[0;31mTypeError\u001b[0m                                 Traceback (most recent call last)",
      "Cell \u001b[0;32mIn[66], line 1\u001b[0m\n\u001b[0;32m----> 1\u001b[0m \u001b[43mtest8\u001b[49m\u001b[43m(\u001b[49m\u001b[43m)\u001b[49m\n",
      "\u001b[0;31mTypeError\u001b[0m: test8() missing 1 required positional argument: 'a'"
     ]
    }
   ],
   "source": [
    "test8()"
   ]
  },
  {
   "cell_type": "code",
   "execution_count": null,
   "id": "418d4328-98bf-489a-af54-64d5c7b1e03a",
   "metadata": {},
   "outputs": [],
   "source": [
    "len()"
   ]
  },
  {
   "cell_type": "code",
   "execution_count": null,
   "id": "fe7cae08-c7ea-4617-8b24-a4fdc016333b",
   "metadata": {},
   "outputs": [],
   "source": []
  },
  {
   "cell_type": "code",
   "execution_count": 68,
   "id": "849611ea-d73c-4b91-a027-28318a04e13f",
   "metadata": {},
   "outputs": [],
   "source": [
    "def test9(a):\n",
    "    \"\"\" this is the function to extract num data fron list\"\"\" \n",
    "\n",
    "\n",
    "    l = []\n",
    "    for i in a :\n",
    "        if type(i) == list:\n",
    "            for j in i:\n",
    "                l.append(j)\n",
    "        else:\n",
    "            if type  (i) == int or type(i) == float:\n",
    "                l.append(i)\n",
    "    return(l)\n",
    "                \n"
   ]
  },
  {
   "cell_type": "code",
   "execution_count": null,
   "id": "43980f46-7ac9-4706-8d58-f3f36c921b3d",
   "metadata": {},
   "outputs": [],
   "source": [
    "test9()"
   ]
  },
  {
   "cell_type": "code",
   "execution_count": 69,
   "id": "a7e3cf46-a9d6-46ea-8b64-8dbabd117552",
   "metadata": {},
   "outputs": [],
   "source": [
    "def test10():\n",
    "    return a+b\n"
   ]
  },
  {
   "cell_type": "code",
   "execution_count": 70,
   "id": "8c5355b8-5232-41bd-bb32-e1fe70319408",
   "metadata": {},
   "outputs": [],
   "source": [
    "def test11(*args):\n",
    "    return args\n",
    "    \n"
   ]
  },
  {
   "cell_type": "code",
   "execution_count": 72,
   "id": "1be3a776-3729-457d-ab3b-d9262dd5d94b",
   "metadata": {},
   "outputs": [
    {
     "data": {
      "text/plain": [
       "(2, 3, 4)"
      ]
     },
     "execution_count": 72,
     "metadata": {},
     "output_type": "execute_result"
    }
   ],
   "source": [
    "test11(2,3,4)"
   ]
  },
  {
   "cell_type": "code",
   "execution_count": 73,
   "id": "9749b0c5-7933-4750-b520-bd763fec8053",
   "metadata": {},
   "outputs": [
    {
     "data": {
      "text/plain": [
       "('elligible', 4, 4, 5, [6677, 789])"
      ]
     },
     "execution_count": 73,
     "metadata": {},
     "output_type": "execute_result"
    }
   ],
   "source": [
    "test11(\"elligible\",4,4,5,[6677,789])"
   ]
  },
  {
   "cell_type": "code",
   "execution_count": 74,
   "id": "b8d1c421-f0a9-4aba-872b-b98c25254c1d",
   "metadata": {},
   "outputs": [],
   "source": [
    "def test12(*viv):\n",
    "    return viv"
   ]
  },
  {
   "cell_type": "code",
   "execution_count": 75,
   "id": "5851053b-8f56-4ca7-a434-3fac31079d0d",
   "metadata": {},
   "outputs": [
    {
     "data": {
      "text/plain": [
       "(6, 7, 8)"
      ]
     },
     "execution_count": 75,
     "metadata": {},
     "output_type": "execute_result"
    }
   ],
   "source": [
    "test12(6,7,8)"
   ]
  },
  {
   "cell_type": "code",
   "execution_count": 76,
   "id": "2bd16ce2-07a4-47a8-856c-73aec5c97fdb",
   "metadata": {},
   "outputs": [],
   "source": [
    "def test13(*args,a):\n",
    "    return args,a"
   ]
  },
  {
   "cell_type": "code",
   "execution_count": 77,
   "id": "faa9a40c-2df9-49cb-b551-03c56d195bfd",
   "metadata": {},
   "outputs": [
    {
     "data": {
      "text/plain": [
       "((12, 45, 56), 34)"
      ]
     },
     "execution_count": 77,
     "metadata": {},
     "output_type": "execute_result"
    }
   ],
   "source": [
    "test13(12,45,56,a = 34)"
   ]
  },
  {
   "cell_type": "code",
   "execution_count": 80,
   "id": "b52fd835-e970-42bd-a029-3bfbba14acd7",
   "metadata": {},
   "outputs": [],
   "source": [
    "def test14(c,d,a = 34, b = 4):\n",
    "    return a,b,c,d\n"
   ]
  },
  {
   "cell_type": "code",
   "execution_count": 82,
   "id": "d2426c92-33d9-4d79-91d4-afe4422df1d8",
   "metadata": {},
   "outputs": [
    {
     "ename": "TypeError",
     "evalue": "test14() missing 2 required positional arguments: 'c' and 'd'",
     "output_type": "error",
     "traceback": [
      "\u001b[0;31m---------------------------------------------------------------------------\u001b[0m",
      "\u001b[0;31mTypeError\u001b[0m                                 Traceback (most recent call last)",
      "Cell \u001b[0;32mIn[82], line 1\u001b[0m\n\u001b[0;32m----> 1\u001b[0m \u001b[43mtest14\u001b[49m\u001b[43m(\u001b[49m\u001b[43m)\u001b[49m\n",
      "\u001b[0;31mTypeError\u001b[0m: test14() missing 2 required positional arguments: 'c' and 'd'"
     ]
    }
   ],
   "source": [
    "test14()"
   ]
  },
  {
   "cell_type": "code",
   "execution_count": 83,
   "id": "ae93b151-cfa3-430f-a793-e5f8d931d015",
   "metadata": {},
   "outputs": [
    {
     "data": {
      "text/plain": [
       "(34, 4, 5, 6)"
      ]
     },
     "execution_count": 83,
     "metadata": {},
     "output_type": "execute_result"
    }
   ],
   "source": [
    "test14(5,6)"
   ]
  },
  {
   "cell_type": "code",
   "execution_count": 84,
   "id": "2d8d676d-6d2c-4192-9e8f-6084f23fc561",
   "metadata": {},
   "outputs": [],
   "source": [
    "def test15(**args):\n",
    "    return args\n"
   ]
  },
  {
   "cell_type": "code",
   "execution_count": 85,
   "id": "4c8f6582-45a3-4695-809e-c925d93be2d3",
   "metadata": {},
   "outputs": [
    {
     "data": {
      "text/plain": [
       "dict"
      ]
     },
     "execution_count": 85,
     "metadata": {},
     "output_type": "execute_result"
    }
   ],
   "source": [
    "type(test15())"
   ]
  },
  {
   "cell_type": "code",
   "execution_count": 86,
   "id": "d278f684-d157-4f5c-b572-0efb70fa8056",
   "metadata": {},
   "outputs": [
    {
     "data": {
      "text/plain": [
       "{'a': [2, 3, 45], 'b': 'vivek', 'c': 23.45}"
      ]
     },
     "execution_count": 86,
     "metadata": {},
     "output_type": "execute_result"
    }
   ],
   "source": [
    "test15(a = [2,3,45],b =\"vivek\",c = 23.45)"
   ]
  },
  {
   "cell_type": "code",
   "execution_count": null,
   "id": "e3a0fa5e-6b1d-4d8a-b033-896281735ce0",
   "metadata": {},
   "outputs": [],
   "source": []
  }
 ],
 "metadata": {
  "kernelspec": {
   "display_name": "Python 3 (ipykernel)",
   "language": "python",
   "name": "python3"
  },
  "language_info": {
   "codemirror_mode": {
    "name": "ipython",
    "version": 3
   },
   "file_extension": ".py",
   "mimetype": "text/x-python",
   "name": "python",
   "nbconvert_exporter": "python",
   "pygments_lexer": "ipython3",
   "version": "3.10.8"
  }
 },
 "nbformat": 4,
 "nbformat_minor": 5
}
